{
  "nbformat": 4,
  "nbformat_minor": 0,
  "metadata": {
    "colab": {
      "provenance": [],
      "authorship_tag": "ABX9TyN2430/K7QslXVZ3mxbzM7P",
      "include_colab_link": true
    },
    "kernelspec": {
      "name": "python3",
      "display_name": "Python 3"
    },
    "language_info": {
      "name": "python"
    }
  },
  "cells": [
    {
      "cell_type": "markdown",
      "metadata": {
        "id": "view-in-github",
        "colab_type": "text"
      },
      "source": [
        "<a href=\"https://colab.research.google.com/github/giuliovv/settimana-enigmistica/blob/main/calcolo_enigmatico.ipynb\" target=\"_parent\"><img src=\"https://colab.research.google.com/assets/colab-badge.svg\" alt=\"Open In Colab\"/></a>"
      ]
    },
    {
      "cell_type": "markdown",
      "source": [
        "Parole crociate, calcolo enigmatico. Problem is non linear, solutions are only integers."
      ],
      "metadata": {
        "id": "i04ypTmzfSAo"
      }
    },
    {
      "cell_type": "code",
      "source": [
        "from itertools import product"
      ],
      "metadata": {
        "id": "vxuCKSyVg59A"
      },
      "execution_count": 1,
      "outputs": []
    },
    {
      "cell_type": "code",
      "source": [
        "def solve_equations():\n",
        "    for A, B, C, D, E, F, G, H, I in product(range(10), repeat=9):\n",
        "        if H == 0:\n",
        "            continue  # Skip iteration if H is zero to avoid division by zero\n",
        "\n",
        "        if (\n",
        "            (B + 10*A) * (D + 10*C) == G + 10*F + 100*E and\n",
        "            (E + 10*E + 100*C) * H == C + 10*H + 100*F and\n",
        "            I + 10*C + 100*B + G == F + 10*B + 100*B and\n",
        "            (B + 10*A) + (E + 10*E + 100*C) == I + 10*C + 100*B and\n",
        "            (D + 10*C) % H == 0 and (D + 10*C) // H == G and\n",
        "            G + 10*F + 100*E - (C + 10*H + 100*F) == F + 10*B + 100*B\n",
        "        ):\n",
        "            return {\"A\": A, \"B\": B, \"C\": C, \"D\": D, \"E\": E, \"F\": F, \"G\": G, \"H\": H, \"I\": I}\n",
        "\n",
        "# Define the ranges for each variable (0 to 9 inclusive)\n",
        "ranges = (slice(0, 10, 1), slice(0, 10, 1), slice(0, 10, 1),\n",
        "          slice(0, 10, 1), slice(0, 10, 1), slice(0, 10, 1),\n",
        "          slice(0, 10, 1), slice(0, 10, 1), slice(0, 10, 1))\n",
        "\n",
        "solution = solve_equations()\n",
        "print(solution)"
      ],
      "metadata": {
        "colab": {
          "base_uri": "https://localhost:8080/"
        },
        "id": "j6Pkvb2Vd_Ct",
        "outputId": "b3791d70-4550-4ec2-de3e-503a170539f6"
      },
      "execution_count": 2,
      "outputs": [
        {
          "output_type": "stream",
          "name": "stdout",
          "text": [
            "(4, 2, 1, 8, 7, 5, 6, 3, 9)\n"
          ]
        }
      ]
    }
  ]
}